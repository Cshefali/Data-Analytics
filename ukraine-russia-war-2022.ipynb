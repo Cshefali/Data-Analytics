---
title: "Ukraine_Russia War d2022"
author: "Shefali C."
date: '2022-04-18'
output: 
       html_document:
          toc: true
          theme: readable
          highlight: tango
---

```{r setup, include=FALSE}
knitr::opts_chunk$set(message = FALSE,
                      warning = FALSE,
                      fig.align = 'center')
```
## A Brief Note:
War in Ukraine is ongoing for more than 50 days now. And it clearly backfired on the Russian troops. 🤷‍♀  
This EDA highlights the equipment and personnel loss from Russian end between Feb 25, 2022 to April 15, 2022.  

**Note:**
1. These figures reflect the losses on-record. The actual number can be very high.  
2. Some plots are interactive, hovering over the same will reflect the figures for a specific day.  
<br>
```{r loading libraries}
library(tidyverse)
library(ggplot2)
library(plotly)
library(janitor)
```
```{r reading files}
personnel_loss <- read_csv("../input/2022-ukraine-russian-war/russia_losses_personnel.csv")
equipment_loss <- read_csv("../input/2022-ukraine-russian-war/russia_losses_equipment.csv")
```
<br>

## Data Cleaning {.tabset}  
**1.** Removed white spaces from column headers.  
**2.** Analysed missing values.  
**3.** Checked for duplicate rows.  
**4.** Checked for consistent data formats.  

### Column Headers 
```{r cleaning column headers}
#cleaning column headers
equipment_loss <- clean_names(equipment_loss)
personnel_loss <- clean_names(personnel_loss)
```
### Duplicate Rows 
```{r duplicate rows}
#checking for duplicate rows
sum(duplicated(equipment_loss))
sum(duplicated(personnel_loss))
```
**No duplicate rows found.**

### Missing Values
```{r missing values}
#checking for NA values in both files
sum(is.na(equipment_loss))
sum(is.na(personnel_loss))
```

```{r}
#checking all missing values in equipment file
na_values <- which(!complete.cases(equipment_loss))
equipment_loss[na_values,]
```
**1.** NA values are present in the last 2 columns- special equipment and srbm system.  
**2.** The srbm system column is completely blank, so i am removing it.  
**3.** The special equipment column has values from Day 21 of the war, hence I am keeping this column and storing NA values as 0.  
<br>
```{r}
#removing srbm column.
equipment_loss <- equipment_loss[-15]
#replacing the NA values in `special equipment` column with 0
equipment_loss[is.na(equipment_loss)] = 0
```

### Data Formats {-}
```{r datatypes}
str(personnel_loss)
str(equipment_loss)
```
**The datatype of all the columns is consistent with the values they hold.**  

**Following function kaggle_plotsize helps to set the size of different plots.**
```{r kaggle plots}
kaggle_plotsize <- function(width, height) {
  options(repr.plot.width = width, repr.plot.height = height)
}
```
**Setting plot dimensions in pixels.**
```{r}
pixel_height = 360
pixel_width = 480
```

## Data Visualization
### 1. Ordnance lost on Russia's end so far.
```{r total loss, results='hold'}
kaggle_plotsize(15,10)
equipment_loss[50,-c(1,2)] %>%
  pivot_longer(cols=colnames(equipment_loss[50,-c(1,2)]),
               names_to="equipments", values_to="total_loss") %>%
  ggplot(aes(x=reorder(equipments,total_loss),y=total_loss)) +
  geom_bar(stat="identity",width=0.4,color="midnightblue",fill="gold3",size=1) +
  geom_text(aes(label=total_loss),color="black",hjust=-0.6,fontface="bold",size=3) +
  labs(title="Total Equipment loss on Russian side between Feb 25-Apr 15, 2022",
       y="equipment loss") +
  theme_bw() +
  theme(plot.title=element_text(face="bold",hjust=0.5,size=11),
        axis.text=element_text(face="bold",size=11),
        axis.title.y=element_blank(),
        axis.title.x=element_text(face="bold",size=12),
        panel.background=element_rect(fill="white")) +
  coord_flip()
```

```{r}
#added 3 columns which store the weapons loss in 3 categories: terrestrial, naval, aerial.
equipment_loss <- equipment_loss %>%
  mutate(terrestrial = tank + apc + field_artillery + mrl + military_auto + fuel_tank + special_equipment,
         aerial = aircraft + helicopter + drone + anti_aircraft_warfare,
         naval = naval_ship)
#creating data for all weapon types: terrestrial, aerial, naval
weapons <- equipment_loss %>% select(date,terrestrial,aerial,naval)
```

### 2. Trend in loss of weapons in all categories via a line chart
```{r results='hold'}
line_chart <- equipment_loss %>%
  ggplot(aes(x=date)) +
  geom_line(aes(y=terrestrial),color="darkred") +
  geom_line(aes(y=aerial),color="deepskyblue4") +
  geom_line(aes(y=naval),color="forestgreen") +
  geom_text(aes(x=as.Date("2022-04-08"),y=4700,label="terrestrial"),color="black")+
  geom_text(aes(x=as.Date("2022-04-12"),y=600,label="aerial"),color="black")+
  geom_text(aes(x=as.Date("2022-04-12"),y=100,label="naval"),color="black")+
  labs(title="Loss Figures of All Weapon Types",y="type of weapons")+
  theme_bw()+
  theme(axis.title.y=element_text(face="bold"),
        plot.title=element_text(face="bold",hjust=0.5),
        panel.background = element_rect(fill = "white"))
ggplotly(line_chart, height = pixel_height, width = pixel_width)
```
### 3. Loss of ordnance in each category {.tabsets}

#### Terrestrial
```{r terrestrial weapons}
terrestrial_weapons <- gather(equipment_loss %>%
  select(date,tank,apc,field_artillery,mrl,military_auto,fuel_tank,
         special_equipment),key="weapon",value="total_count",2:8)
```
```{r terrestrial viz, results='hold'}
#loss in each terrestrial weapon
t_linechart <- terrestrial_weapons %>%
  ggplot(aes(x=date,y=total_count,color=weapon))+
  geom_line() + theme_light() +
  labs(title="Terrestrial Weapons", y="total count")+
  theme(axis.title.y=element_text(face="bold"),
        plot.title=element_text(face="bold",hjust=0.5),
        panel.background = element_rect(fill = "white"))
ggplotly(t_linechart,height=pixel_height,width=pixel_width)
```
#### Aerial
```{r aerial weapons}
aerial_weapons <- gather(equipment_loss %>%
  select(date,aircraft,helicopter,anti_aircraft_warfare,drone),
  key="weapon",value="total_count",2:5)
```
```{r aerial viz,results='hold'}
#loss in aerial weapons
a_linechart <- aerial_weapons %>%
  ggplot(aes(x=date,y=total_count,color=weapon))+
  geom_line() + theme_bw()+
  labs(title="Aerial Weapons",y="total count")+
  theme(axis.title.y=element_text(face="bold"),
        plot.title=element_text(face="bold",hjust=0.5),
        panel.background = element_rect(fill = "white"))
ggplotly(a_linechart,height=pixel_height,width=pixel_width)
```
#### Naval
```{r naval weapons}
naval_weapons <- equipment_loss %>%
  select(date,naval_ship)
```
```{r naval viz,results='hold'}
#loss in naval weapon {-}
n_linechart <- naval_weapons %>%
  ggplot(aes(x=date,y=naval_ship))+
  geom_line(color="seagreen") + theme_bw() +
  labs(title="Naval Weapons",y="total count") +
  theme(axis.title.y=element_text(face="bold"),
        plot.title=element_text(face="bold",hjust=0.5),
        panel.background = element_rect(fill = "white"))
ggplotly(n_linechart,height=pixel_height,width=pixel_width)
```  
<br>
### 4. Loss in troops.

```{r}
troops_data <- gather(personnel_loss %>%
  select(date,personnel,pow),key="troops",value="total_count",2:3)
```

```{r troops viz, results='hold'}
troops_plot <- troops_data %>%
  ggplot(aes(x=date,y=total_count,color=troops))+
  geom_line() + theme_bw()+
  labs(title="Russian Troops",y="total count")+
  theme(panel.background = element_rect(fill = "white"),
       plot.title=element_text(face="bold",hjust=0.5),
       axis.text=element_text(face="bold"))
ggplotly(troops_plot,height=pixel_height,width=pixel_width)
```








