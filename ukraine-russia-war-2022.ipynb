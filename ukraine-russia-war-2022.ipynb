---
title: "Ukraine_Russia War d2022"
author: "Shefali C."
date: '2022-04-18'
output: 
       html_document:
          toc: true
          theme: readable
          highlight: tango
---

```{r setup, include=FALSE}
knitr::opts_chunk$set(message = FALSE,
                      warning = FALSE,
                      fig.align = 'center')
```
## A Brief Note:
War in Ukraine is ongoing for more than 50 days now. And it clearly backfired on the Russian troops. 🤷‍♀  
This EDA highlights the equipment and personnel loss from Russian end between Feb 25, 2022 to April 15, 2022.  

**Note:**
1. These figures reflect the losses on-record. The actual number can be very high.  
2. Some plots are interactive, hovering over the same will reflect the figures for a specific day.  
<br>
```{r loading libraries, include=FALSE}
library(tidyverse)
library(ggplot2)
library(plotly)
library(janitor)
```
```{r reading files, include=FALSE}
personnel_loss <- read_csv("../input/2022-ukraine-russian-war/russia_losses_personnel.csv")
equipment_loss <- read_csv("../input/2022-ukraine-russian-war/russia_losses_equipment.csv")
```
<br>

## Data Cleaning {.tabset}  
**1.** Removed white spaces from column headers.  
**2.** Analysed missing values.  
**3.** Checked for duplicate rows.  
**4.** Checked for consistent data formats.  

### Column Headers 
```{r cleaning column headers, include=FALSE}
#cleaning column headers
equipment_loss <- clean_names(equipment_loss)
personnel_loss <- clean_names(personnel_loss)
```
### Duplicate Rows 
```{r duplicate rows}
#checking for duplicate rows
paste("Equipment_loss- duplicate rows: ",sum(duplicated(equipment_loss)))
paste("Personnel_loss- duplicate rows: ",sum(duplicated(personnel_loss)))
```
**No duplicate rows found.**

### Missing Values
```{r missing values}
#checking for NA values in both files
paste("Equipment loss- missing values: ", sum(is.na(equipment_loss)))
```

```{r include=FALSE}
#checking all missing values in equipment file
na_values <- which(!complete.cases(equipment_loss))
equipment_loss[na_values,]
```
**1.** NA values are present in the last 2 columns- special equipment and srbm system.  
**2.** The srbm system column is completely blank, so i am removing it.  
**3.** The special equipment column has values from Day 21 of the war, hence I am keeping this column and storing NA values as 0.  
<br>
```{r}
#removing srbm column.
equipment_loss <- equipment_loss[-15]
#replacing the NA values in `special equipment` column with 0
equipment_loss[is.na(equipment_loss)] = 0
```

### Data Formats
```{r datatypes}
str(personnel_loss)
str(equipment_loss)
```
**The datatype of all the columns is consistent with the values they hold.**
## {-}

## Data Visualization
### 1. Total Equipment loss on Russia's end so far.




